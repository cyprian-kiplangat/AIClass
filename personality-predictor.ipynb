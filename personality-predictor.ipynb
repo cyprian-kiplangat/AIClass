{
 "cells": [
  {
   "cell_type": "markdown",
   "metadata": {},
   "source": [
    "## PESONALITY PREDICTOR\n"
   ]
  },
  {
   "cell_type": "markdown",
   "metadata": {},
   "source": [
    "**Table of content :**\n",
    "\n",
    "1. IMPOPRTING LIBRARIES AND LOADING DATA\n",
    "\n",
    "2. DATA CLEANING & PREPROCESSING\n",
    "\n",
    "3. EXPLORATORY DATA ANALYSIS (EDA)\n",
    "\n",
    "4. FEATURE ENGINEERING\n",
    "\n",
    "5. MODEL\n",
    "\n",
    "6. GIVE INPUTS \n",
    "\n",
    "7. FIND THE OUTPUT"
   ]
  },
  {
   "cell_type": "markdown",
   "metadata": {},
   "source": [
    "### IMPOPRTING LIBRARIES AND LOADING DATA\n"
   ]
  },
  {
   "cell_type": "code",
   "execution_count": 2,
   "metadata": {
    "_cell_guid": "b1076dfc-b9ad-4769-8c92-a6c4dae69d19",
    "_uuid": "8f2839f25d086af736a60e9eeb907d3b93b6e0e5",
    "execution": {
     "iopub.execute_input": "2025-06-04T09:08:21.977502Z",
     "iopub.status.busy": "2025-06-04T09:08:21.977232Z",
     "iopub.status.idle": "2025-06-04T09:08:26.711769Z",
     "shell.execute_reply": "2025-06-04T09:08:26.710626Z",
     "shell.execute_reply.started": "2025-06-04T09:08:21.977470Z"
    },
    "trusted": true
   },
   "outputs": [],
   "source": [
    "import pandas as pd\n",
    "import numpy as np\n",
    "from sklearn.preprocessing import LabelEncoder, StandardScaler, PolynomialFeatures\n",
    "from sklearn.impute import SimpleImputer\n",
    "from sklearn.model_selection import train_test_split\n",
    "from sklearn.ensemble import RandomForestClassifier\n",
    "from sklearn.metrics import classification_report\n",
    "import warnings\n",
    "warnings.filterwarnings('ignore')"
   ]
  },
  {
   "cell_type": "code",
   "execution_count": 4,
   "metadata": {
    "execution": {
     "iopub.execute_input": "2025-06-04T09:09:12.086118Z",
     "iopub.status.busy": "2025-06-04T09:09:12.085724Z",
     "iopub.status.idle": "2025-06-04T09:09:12.102580Z",
     "shell.execute_reply": "2025-06-04T09:09:12.101463Z",
     "shell.execute_reply.started": "2025-06-04T09:09:12.086062Z"
    },
    "trusted": true
   },
   "outputs": [
    {
     "name": "stdout",
     "output_type": "stream",
     "text": [
      "Path to dataset files: /home/mutaician/.cache/kagglehub/datasets/rakeshkapilavai/extrovert-vs-introvert-behavior-data/versions/2\n"
     ]
    },
    {
     "data": {
      "text/html": [
       "<div>\n",
       "<style scoped>\n",
       "    .dataframe tbody tr th:only-of-type {\n",
       "        vertical-align: middle;\n",
       "    }\n",
       "\n",
       "    .dataframe tbody tr th {\n",
       "        vertical-align: top;\n",
       "    }\n",
       "\n",
       "    .dataframe thead th {\n",
       "        text-align: right;\n",
       "    }\n",
       "</style>\n",
       "<table border=\"1\" class=\"dataframe\">\n",
       "  <thead>\n",
       "    <tr style=\"text-align: right;\">\n",
       "      <th></th>\n",
       "      <th>Time_spent_Alone</th>\n",
       "      <th>Stage_fear</th>\n",
       "      <th>Social_event_attendance</th>\n",
       "      <th>Going_outside</th>\n",
       "      <th>Drained_after_socializing</th>\n",
       "      <th>Friends_circle_size</th>\n",
       "      <th>Post_frequency</th>\n",
       "      <th>Personality</th>\n",
       "    </tr>\n",
       "  </thead>\n",
       "  <tbody>\n",
       "    <tr>\n",
       "      <th>0</th>\n",
       "      <td>4.0</td>\n",
       "      <td>No</td>\n",
       "      <td>4.0</td>\n",
       "      <td>6.0</td>\n",
       "      <td>No</td>\n",
       "      <td>13.0</td>\n",
       "      <td>5.0</td>\n",
       "      <td>Extrovert</td>\n",
       "    </tr>\n",
       "    <tr>\n",
       "      <th>1</th>\n",
       "      <td>9.0</td>\n",
       "      <td>Yes</td>\n",
       "      <td>0.0</td>\n",
       "      <td>0.0</td>\n",
       "      <td>Yes</td>\n",
       "      <td>0.0</td>\n",
       "      <td>3.0</td>\n",
       "      <td>Introvert</td>\n",
       "    </tr>\n",
       "    <tr>\n",
       "      <th>2</th>\n",
       "      <td>9.0</td>\n",
       "      <td>Yes</td>\n",
       "      <td>1.0</td>\n",
       "      <td>2.0</td>\n",
       "      <td>Yes</td>\n",
       "      <td>5.0</td>\n",
       "      <td>2.0</td>\n",
       "      <td>Introvert</td>\n",
       "    </tr>\n",
       "    <tr>\n",
       "      <th>3</th>\n",
       "      <td>0.0</td>\n",
       "      <td>No</td>\n",
       "      <td>6.0</td>\n",
       "      <td>7.0</td>\n",
       "      <td>No</td>\n",
       "      <td>14.0</td>\n",
       "      <td>8.0</td>\n",
       "      <td>Extrovert</td>\n",
       "    </tr>\n",
       "    <tr>\n",
       "      <th>4</th>\n",
       "      <td>3.0</td>\n",
       "      <td>No</td>\n",
       "      <td>9.0</td>\n",
       "      <td>4.0</td>\n",
       "      <td>No</td>\n",
       "      <td>8.0</td>\n",
       "      <td>5.0</td>\n",
       "      <td>Extrovert</td>\n",
       "    </tr>\n",
       "  </tbody>\n",
       "</table>\n",
       "</div>"
      ],
      "text/plain": [
       "   Time_spent_Alone Stage_fear  Social_event_attendance  Going_outside  \\\n",
       "0               4.0         No                      4.0            6.0   \n",
       "1               9.0        Yes                      0.0            0.0   \n",
       "2               9.0        Yes                      1.0            2.0   \n",
       "3               0.0         No                      6.0            7.0   \n",
       "4               3.0         No                      9.0            4.0   \n",
       "\n",
       "  Drained_after_socializing  Friends_circle_size  Post_frequency Personality  \n",
       "0                        No                 13.0             5.0   Extrovert  \n",
       "1                       Yes                  0.0             3.0   Introvert  \n",
       "2                       Yes                  5.0             2.0   Introvert  \n",
       "3                        No                 14.0             8.0   Extrovert  \n",
       "4                        No                  8.0             5.0   Extrovert  "
      ]
     },
     "execution_count": 4,
     "metadata": {},
     "output_type": "execute_result"
    }
   ],
   "source": [
    "import kagglehub\n",
    "\n",
    "# Download latest version\n",
    "path = kagglehub.dataset_download(\"rakeshkapilavai/extrovert-vs-introvert-behavior-data\")\n",
    "\n",
    "print(\"Path to dataset files:\", path)\n",
    "data = pd.read_csv(path + \"/personality_dataset.csv\")\n",
    "data.head()"
   ]
  },
  {
   "cell_type": "markdown",
   "metadata": {},
   "source": [
    "### DATA CLEANING AND PREPROCESSING"
   ]
  },
  {
   "cell_type": "markdown",
   "metadata": {},
   "source": [
    "In this section, we prepare the raw data for analysis and modeling by addressing data quality issues. This includes handling missing values, encoding categorical variables, managing outliers, checking for duplicates, and splitting the data into training and test sets. Each step is explained to ensure clarity."
   ]
  },
  {
   "cell_type": "code",
   "execution_count": 5,
   "metadata": {
    "execution": {
     "iopub.execute_input": "2025-06-04T09:09:16.606043Z",
     "iopub.status.busy": "2025-06-04T09:09:16.605636Z",
     "iopub.status.idle": "2025-06-04T09:09:16.611503Z",
     "shell.execute_reply": "2025-06-04T09:09:16.610424Z",
     "shell.execute_reply.started": "2025-06-04T09:09:16.606009Z"
    },
    "trusted": true
   },
   "outputs": [],
   "source": [
    "# Define columns\n",
    "numeric_columns = ['Time_spent_Alone', 'Social_event_attendance', 'Going_outside', \n",
    "                  'Friends_circle_size', 'Post_frequency']\n",
    "categorical_columns = ['Stage_fear', 'Drained_after_socializing']\n",
    "target_column = 'Personality'"
   ]
  },
  {
   "cell_type": "code",
   "execution_count": 6,
   "metadata": {
    "execution": {
     "iopub.execute_input": "2025-06-04T09:09:58.869005Z",
     "iopub.status.busy": "2025-06-04T09:09:58.868635Z",
     "iopub.status.idle": "2025-06-04T09:09:58.900668Z",
     "shell.execute_reply": "2025-06-04T09:09:58.899775Z",
     "shell.execute_reply.started": "2025-06-04T09:09:58.868976Z"
    },
    "trusted": true
   },
   "outputs": [
    {
     "name": "stdout",
     "output_type": "stream",
     "text": [
      "Dataset Shape: (2900, 8)\n",
      "\n",
      "Dataset Info:\n",
      "<class 'pandas.core.frame.DataFrame'>\n",
      "RangeIndex: 2900 entries, 0 to 2899\n",
      "Data columns (total 8 columns):\n",
      " #   Column                     Non-Null Count  Dtype  \n",
      "---  ------                     --------------  -----  \n",
      " 0   Time_spent_Alone           2837 non-null   float64\n",
      " 1   Stage_fear                 2827 non-null   object \n",
      " 2   Social_event_attendance    2838 non-null   float64\n",
      " 3   Going_outside              2834 non-null   float64\n",
      " 4   Drained_after_socializing  2848 non-null   object \n",
      " 5   Friends_circle_size        2823 non-null   float64\n",
      " 6   Post_frequency             2835 non-null   float64\n",
      " 7   Personality                2900 non-null   object \n",
      "dtypes: float64(5), object(3)\n",
      "memory usage: 181.4+ KB\n",
      "None\n",
      "\n",
      "Missing Values:\n",
      "Time_spent_Alone             63\n",
      "Stage_fear                   73\n",
      "Social_event_attendance      62\n",
      "Going_outside                66\n",
      "Drained_after_socializing    52\n",
      "Friends_circle_size          77\n",
      "Post_frequency               65\n",
      "Personality                   0\n",
      "dtype: int64\n"
     ]
    }
   ],
   "source": [
    "# Display basic information about the dataset to understand its structure and identify issues\n",
    "print(\"Dataset Shape:\", data.shape)\n",
    "print(\"\\nDataset Info:\")\n",
    "print(data.info())\n",
    "print(\"\\nMissing Values:\")\n",
    "print(data.isnull().sum())"
   ]
  },
  {
   "cell_type": "code",
   "execution_count": 7,
   "metadata": {
    "execution": {
     "iopub.execute_input": "2025-06-04T09:10:33.099580Z",
     "iopub.status.busy": "2025-06-04T09:10:33.098699Z",
     "iopub.status.idle": "2025-06-04T09:10:33.172510Z",
     "shell.execute_reply": "2025-06-04T09:10:33.171572Z",
     "shell.execute_reply.started": "2025-06-04T09:10:33.099538Z"
    },
    "trusted": true
   },
   "outputs": [
    {
     "name": "stdout",
     "output_type": "stream",
     "text": [
      "Target variable encoded. Extrovert=1, Introvert=0\n",
      "Missing values in numeric columns filled with median.\n",
      "Missing values in categorical columns filled with most frequent value.\n",
      "\n",
      "Missing Values After Imputation:\n",
      "Time_spent_Alone             0\n",
      "Stage_fear                   0\n",
      "Social_event_attendance      0\n",
      "Going_outside                0\n",
      "Drained_after_socializing    0\n",
      "Friends_circle_size          0\n",
      "Post_frequency               0\n",
      "Personality                  0\n",
      "dtype: int64\n",
      "\n",
      "Number of duplicate rows: 448\n",
      "Duplicates removed. New dataset shape: (2452, 8)\n",
      "Categorical variables encoded into binary columns.\n",
      "Outliers capped in numeric columns.\n",
      "Dataset split into training and test sets. Training shape: (1961, 7) Test shape: (491, 7)\n"
     ]
    }
   ],
   "source": [
    "# Step 1: Encode target variable\n",
    "# Convert the categorical target 'Personality' (Extrovert/Introvert) to numerical values (1/0) for modeling\n",
    "le = LabelEncoder()\n",
    "data[target_column] = le.fit_transform(data[target_column])  # Extrovert=1, Introvert=0\n",
    "print(\"Target variable encoded. Extrovert=1, Introvert=0\")\n",
    "\n",
    "# Step 2: Handle missing values\n",
    "# Replace missing values in numeric columns with the median value of each column\n",
    "numeric_imputer = SimpleImputer(strategy='median')\n",
    "data[numeric_columns] = numeric_imputer.fit_transform(data[numeric_columns])\n",
    "print(\"Missing values in numeric columns filled with median.\")\n",
    "\n",
    "# Replace missing values in categorical columns with the most frequent category\n",
    "categorical_imputer = SimpleImputer(strategy='most_frequent')\n",
    "data[categorical_columns] = categorical_imputer.fit_transform(data[categorical_columns])\n",
    "print(\"Missing values in categorical columns filled with most frequent value.\")\n",
    "\n",
    "# Verify no missing values remain\n",
    "print(\"\\nMissing Values After Imputation:\")\n",
    "print(data.isnull().sum())\n",
    "\n",
    "# Step 3: Check for duplicate rows\n",
    "# Identify if there are any duplicate entries in the dataset\n",
    "print(\"\\nNumber of duplicate rows:\", data.duplicated().sum())\n",
    "# Remove duplicates if any exist\n",
    "if data.duplicated().sum() > 0:\n",
    "    data = data.drop_duplicates()\n",
    "    print(\"Duplicates removed. New dataset shape:\", data.shape)\n",
    "else:\n",
    "    print(\"No duplicates found.\")\n",
    "\n",
    "# Step 4: Encode categorical features\n",
    "# Convert categorical variables (Stage_fear, Drained_after_socializing) into binary columns (0/1) using one-hot encoding\n",
    "data = pd.get_dummies(data, columns=categorical_columns, drop_first=True)\n",
    "print(\"Categorical variables encoded into binary columns.\")\n",
    "\n",
    "# Step 5: Cap outliers (less aggressive for extrovert-indicating features)\n",
    "# Limit extreme values in numeric columns to reduce the impact of outliers on the model\n",
    "for col in numeric_columns:\n",
    "    Q1 = data[col].quantile(0.25)\n",
    "    Q3 = data[col].quantile(0.75)\n",
    "    IQR = Q3 - Q1\n",
    "    lower_bound = Q1 - 1.5 * IQR\n",
    "    # Less aggressive upper bound for extrovert-related features to allow higher values\n",
    "    upper_bound = Q3 + 2.5 * IQR if col in ['Social_event_attendance', 'Friends_circle_size', 'Post_frequency'] else Q3 + 1.5 * IQR\n",
    "    data[col] = data[col].clip(lower=lower_bound, upper=upper_bound)\n",
    "print(\"Outliers capped in numeric columns.\")\n",
    "\n",
    "# Step 6: Train-test split\n",
    "# Split the dataset into training (80%) and testing (20%) sets for model evaluation\n",
    "X = data.drop(columns=[target_column])\n",
    "y = data[target_column]\n",
    "X_train, X_test, y_train, y_test = train_test_split(X, y, test_size=0.2, stratify=y, random_state=42)\n",
    "print(\"Dataset split into training and test sets. Training shape:\", X_train.shape, \"Test shape:\", X_test.shape)"
   ]
  },
  {
   "cell_type": "markdown",
   "metadata": {},
   "source": [
    "### EXPLORATORY DATA ANALYSIS (EDA)\n",
    "\n",
    "In this section, we use visualizations to explore the dataset and uncover patterns between features and the target variable (Personality: Extrovert vs. Introvert). The goal is to identify key differences between personality types and understand which factors might influence them. Each plot is designed to be clear and easy to interpret, with textual summaries to highlight key insights."
   ]
  },
  {
   "cell_type": "code",
   "execution_count": 10,
   "metadata": {
    "trusted": true
   },
   "outputs": [
    {
     "name": "stdout",
     "output_type": "stream",
     "text": [
      "Insight 1: The dataset contains 1395 Introverts and 1057 Extroverts, showing the balance of personality types.\n",
      "Insight 2: On average, Introverts spend 2.1 hours alone, while Extroverts spend 6.9 hours alone, indicating a clear difference.\n",
      "Insight 3: Extroverts attend an average of 1.9 social events, significantly more than Introverts who attend 6.0 events.\n",
      "Insight 4: Extroverts have an average friends circle size of 3.3, much larger than Introverts at 9.0.\n"
     ]
    },
    {
     "data": {
      "image/png": "[encoded data removed]",
      "text/plain": [
       "<Figure size 1500x1000 with 4 Axes>"
      ]
     },
     "metadata": {},
     "output_type": "display_data"
    },
    {
     "name": "stdout",
     "output_type": "stream",
     "text": [
      "EDA completed. The visualizations and insights above highlight key differences between Introverts and Extroverts, focusing on time spent alone, social engagement, and friendship circles. These factors can guide feature selection for modeling.\n"
     ]
    }
   ],
   "source": [
    "# Import visualization libraries\n",
    "import matplotlib.pyplot as plt\n",
    "import seaborn as sns\n",
    "%matplotlib inline\n",
    "\n",
    "# Set a widely compatible style for better visualizations\n",
    "plt.style.use('ggplot')\n",
    "\n",
    "# Create a figure with subplots for key visualizations\n",
    "fig = plt.figure(figsize=(15, 10))\n",
    "\n",
    "# 1. Distribution of Personality Types\n",
    "plt.subplot(2, 2, 1)\n",
    "sns.countplot(x=y, data=data)\n",
    "plt.title('Distribution of Personality Types', fontsize=14, pad=15)\n",
    "plt.xticks([0, 1], ['Introvert', 'Extrovert'], fontsize=12)\n",
    "plt.xlabel('Personality Type', fontsize=12)\n",
    "plt.ylabel('Number of People', fontsize=12)\n",
    "for i, count in enumerate(data[target_column].value_counts()):\n",
    "    plt.text(i, count, str(count), ha='center', va='bottom', fontsize=12)\n",
    "\n",
    "# Insight for Distribution Plot\n",
    "introvert_count = data[target_column].value_counts()[0]\n",
    "extrovert_count = data[target_column].value_counts()[1]\n",
    "print(f\"Insight 1: The dataset contains {introvert_count} Introverts and {extrovert_count} Extroverts, showing the balance of personality types.\")\n",
    "\n",
    "# 2. Time Spent Alone by Personality\n",
    "plt.subplot(2, 2, 2)\n",
    "sns.histplot(data=data, x='Time_spent_Alone', hue=y, bins=15, kde=True, palette=['blue', 'red'])\n",
    "plt.title('Time Spent Alone by Personality', fontsize=14, pad=15)\n",
    "plt.xlabel('Time Spent Alone (Hours)', fontsize=12)\n",
    "plt.ylabel('Number of People', fontsize=12)\n",
    "plt.legend(labels=['Introvert', 'Extrovert'], title='Personality', fontsize=10, title_fontsize=12)\n",
    "\n",
    "# Insight for Time Spent Alone\n",
    "introvert_avg_alone = data[data[target_column] == 0]['Time_spent_Alone'].mean()\n",
    "extrovert_avg_alone = data[data[target_column] == 1]['Time_spent_Alone'].mean()\n",
    "print(f\"Insight 2: On average, Introverts spend {introvert_avg_alone:.1f} hours alone, while Extroverts spend {extrovert_avg_alone:.1f} hours alone, indicating a clear difference.\")\n",
    "\n",
    "# 3. Social Event Attendance by Personality\n",
    "plt.subplot(2, 2, 3)\n",
    "sns.barplot(x=y, y='Social_event_attendance', data=data, ci=None, palette=['blue', 'red'])\n",
    "plt.title('Average Social Event Attendance', fontsize=14, pad=15)\n",
    "plt.xticks([0, 1], ['Introvert', 'Extrovert'], fontsize=12)\n",
    "plt.xlabel('Personality Type', fontsize=12)\n",
    "plt.ylabel('Avg. Social Events Attended', fontsize=12)\n",
    "for i, mean in enumerate([data[data[target_column] == 0]['Social_event_attendance'].mean(), data[data[target_column] == 1]['Social_event_attendance'].mean()]):\n",
    "    plt.text(i, mean, f'{mean:.1f}', ha='center', va='bottom', fontsize=12)\n",
    "\n",
    "# Insight for Social Event Attendance\n",
    "introvert_avg_social = data[data[target_column] == 0]['Social_event_attendance'].mean()\n",
    "extrovert_avg_social = data[data[target_column] == 1]['Social_event_attendance'].mean()\n",
    "print(f\"Insight 3: Extroverts attend an average of {extrovert_avg_social:.1f} social events, significantly more than Introverts who attend {introvert_avg_social:.1f} events.\")\n",
    "\n",
    "# 4. Friends Circle Size by Personality\n",
    "plt.subplot(2, 2, 4)\n",
    "sns.barplot(x=y, y='Friends_circle_size', data=data, ci=None, palette=['blue', 'red'])\n",
    "plt.title('Average Friends Circle Size', fontsize=14, pad=15)\n",
    "plt.xticks([0, 1], ['Introvert', 'Extrovert'], fontsize=12)\n",
    "plt.xlabel('Personality Type', fontsize=12)\n",
    "plt.ylabel('Avg. Friends Circle Size', fontsize=12)\n",
    "for i, mean in enumerate([data[data[target_column] == 0]['Friends_circle_size'].mean(), data[data[target_column] == 1]['Friends_circle_size'].mean()]):\n",
    "    plt.text(i, mean, f'{mean:.1f}', ha='center', va='bottom', fontsize=12)\n",
    "\n",
    "# Insight for Friends Circle Size\n",
    "introvert_avg_friends = data[data[target_column] == 0]['Friends_circle_size'].mean()\n",
    "extrovert_avg_friends = data[data[target_column] == 1]['Friends_circle_size'].mean()\n",
    "print(f\"Insight 4: Extroverts have an average friends circle size of {extrovert_avg_friends:.1f}, much larger than Introverts at {introvert_avg_friends:.1f}.\")\n",
    "\n",
    "plt.tight_layout()\n",
    "plt.show()\n",
    "\n",
    "print(\"EDA completed. The visualizations and insights above highlight key differences between Introverts and Extroverts, focusing on time spent alone, social engagement, and friendship circles. These factors can guide feature selection for modeling.\")"
   ]
  },
  {
   "cell_type": "markdown",
   "metadata": {},
   "source": [
    "\n",
    "### FEATURE ENGINEERING\n",
    "\n",
    "In this section, we create new features from the existing data to improve the model's ability to distinguish between Introverts and Extroverts. These engineered features capture interactions and relationships between variables that may be indicative of personality traits. Each feature is designed with a specific rationale to reflect behavioral patterns associated with personality types."
   ]
  },
  {
   "cell_type": "code",
   "execution_count": 11,
   "metadata": {
    "execution": {
     "iopub.execute_input": "2025-06-04T09:10:40.558058Z",
     "iopub.status.busy": "2025-06-04T09:10:40.556969Z",
     "iopub.status.idle": "2025-06-04T09:10:40.640425Z",
     "shell.execute_reply": "2025-06-04T09:10:40.639430Z",
     "shell.execute_reply.started": "2025-06-04T09:10:40.558016Z"
    },
    "trusted": true
   },
   "outputs": [
    {
     "name": "stdout",
     "output_type": "stream",
     "text": [
      "Feature engineering completed. New interaction and polynomial features have been added to capture behavioral patterns related to personality types.\n"
     ]
    }
   ],
   "source": [
    "X_train = pd.DataFrame(X_train, columns=X.columns)\n",
    "X_test = pd.DataFrame(X_test, columns=X.columns)\n",
    "\n",
    "# Interaction Features: These capture relationships between variables that may indicate personality traits\n",
    "# 1. Alone to Social Ratio: Measures the balance between time spent alone and social engagement. \n",
    "#    A higher ratio may indicate introversion, as it suggests more time alone relative to social events.\n",
    "X_train['Alone_to_Social_Ratio'] = X_train['Time_spent_Alone'] / (X_train['Social_event_attendance'] + 1)\n",
    "X_test['Alone_to_Social_Ratio'] = X_test['Time_spent_Alone'] / (X_test['Social_event_attendance'] + 1)\n",
    "\n",
    "# 2. Social Comfort Index: Combines friends circle size, post frequency, and stage fear to gauge social comfort.\n",
    "#    Higher values suggest greater comfort in social settings, potentially indicating extroversion.\n",
    "X_train['Social_Comfort_Index'] = (X_train['Friends_circle_size'] + X_train['Post_frequency'] - X_train['Stage_fear_Yes']) / 3\n",
    "X_test['Social_Comfort_Index'] = (X_test['Friends_circle_size'] + X_test['Post_frequency'] - X_test['Stage_fear_Yes']) / 3\n",
    "\n",
    "# 3. Social Overload: Measures the interaction between feeling drained after socializing and social event attendance.\n",
    "#    A higher value may indicate introversion, as it suggests discomfort or exhaustion from frequent social interactions.\n",
    "X_train['Social_Overload'] = X_train['Drained_after_socializing_Yes'] * X_train['Social_event_attendance']\n",
    "X_test['Social_Overload'] = X_test['Drained_after_socializing_Yes'] * X_test['Social_event_attendance']\n",
    "\n",
    "# Polynomial Features: These capture non-linear interactions between key variables.\n",
    "#    We focus on interactions between time spent alone, social event attendance, and friends circle size,\n",
    "#    as these are likely to have complex relationships influencing personality.\n",
    "poly = PolynomialFeatures(degree=2, include_bias=False, interaction_only=True)\n",
    "poly_features_train = poly.fit_transform(X_train[['Time_spent_Alone', 'Social_event_attendance', 'Friends_circle_size']])\n",
    "poly_features_test = poly.transform(X_test[['Time_spent_Alone', 'Social_event_attendance', 'Friends_circle_size']])\n",
    "poly_feature_names = poly.get_feature_names_out(['Time_spent_Alone', 'Social_event_attendance', 'Friends_circle_size'])\n",
    "X_train[poly_feature_names] = poly_features_train\n",
    "X_test[poly_feature_names] = poly_features_test\n",
    "\n",
    "# Feature Scaling: Standardize the features to ensure all variables contribute equally to the model.\n",
    "#    This step is crucial for models sensitive to the scale of input data, like logistic regression.\n",
    "scaler = StandardScaler()\n",
    "X_train_scaled = scaler.fit_transform(X_train)\n",
    "X_test_scaled = scaler.transform(X_test)\n",
    "print(\"Feature engineering completed. New interaction and polynomial features have been added to capture behavioral patterns related to personality types.\")\n"
   ]
  },
  {
   "cell_type": "markdown",
   "metadata": {},
   "source": [
    "<p style=\"background-color:#b71c1c; color:white; padding:12px; text-align:center; font-weight:bold; font-size:20px; border-radius:10px;\">\n",
    "MODEL\n",
    "</p>"
   ]
  },
  {
   "cell_type": "code",
   "execution_count": 12,
   "metadata": {
    "execution": {
     "iopub.execute_input": "2025-06-04T09:11:04.329558Z",
     "iopub.status.busy": "2025-06-04T09:11:04.329148Z",
     "iopub.status.idle": "2025-06-04T09:11:04.424329Z",
     "shell.execute_reply": "2025-06-04T09:11:04.423334Z",
     "shell.execute_reply.started": "2025-06-04T09:11:04.329524Z"
    },
    "trusted": true
   },
   "outputs": [],
   "source": [
    "# Train model\n",
    "from sklearn.linear_model import LogisticRegression\n",
    "l_model = LogisticRegression(max_iter=1000, solver='lbfgs', C=0.0006951927961775605)\n",
    "l_model.fit(X_train_scaled, y_train)"
   ]
  },
  {
   "cell_type": "code",
   "execution_count": 13,
   "metadata": {
    "execution": {
     "iopub.execute_input": "2025-06-04T09:11:34.307064Z",
     "iopub.status.busy": "2025-06-04T09:11:34.306165Z",
     "iopub.status.idle": "2025-06-04T09:11:34.315586Z",
     "shell.execute_reply": "2025-06-04T09:11:34.314312Z",
     "shell.execute_reply.started": "2025-06-04T09:11:34.307020Z"
    },
    "trusted": true
   },
   "outputs": [
    {
     "name": "stdout",
     "output_type": "stream",
     "text": [
      "Model Accuracy: 0.9172413793103448\n"
     ]
    }
   ],
   "source": [
    "from sklearn.metrics import accuracy_score\n",
    "accuracy = accuracy_score(y_test, l_model.predict(X_test_scaled))\n",
    "print(\"Model Accuracy:\", accuracy)"
   ]
  },
  {
   "cell_type": "code",
   "execution_count": 14,
   "metadata": {
    "execution": {
     "iopub.execute_input": "2025-06-04T09:11:43.314791Z",
     "iopub.status.busy": "2025-06-04T09:11:43.314409Z",
     "iopub.status.idle": "2025-06-04T09:11:43.327213Z",
     "shell.execute_reply": "2025-06-04T09:11:43.326237Z",
     "shell.execute_reply.started": "2025-06-04T09:11:43.314762Z"
    },
    "trusted": true
   },
   "outputs": [],
   "source": [
    "def predict_personality(input_dict):\n",
    "    \"\"\"\n",
    "    Predict personality type (Extrovert or Introvert) based on input features.\n",
    "    \n",
    "    Args:\n",
    "        input_dict (dict): Dictionary containing input features matching the dataset structure.\n",
    "    \n",
    "    Returns:\n",
    "        str: Predicted personality ('Extrovert' or 'Introvert').\n",
    "    \"\"\"\n",
    "    # Convert dict to DataFrame\n",
    "    df_input = pd.DataFrame([input_dict])\n",
    "    \n",
    "    # Validate input\n",
    "    missing_cols = [col for col in required_columns[:-1] if col not in df_input.columns]\n",
    "    if missing_cols:\n",
    "        raise ValueError(f\"Missing required input columns: {missing_cols}\")\n",
    "    \n",
    "    # Impute missing values\n",
    "    df_input[numeric_columns] = numeric_imputer.transform(df_input[numeric_columns])\n",
    "    df_input[categorical_columns] = categorical_imputer.transform(df_input[categorical_columns])\n",
    "    \n",
    "    # Encode categorical variables\n",
    "    df_input = pd.get_dummies(df_input, columns=categorical_columns, drop_first=True)\n",
    "    \n",
    "    # Add missing dummy columns\n",
    "    for col in ['Stage_fear_Yes', 'Drained_after_socializing_Yes']:\n",
    "        if col not in df_input.columns:\n",
    "            df_input[col] = 0\n",
    "    \n",
    "    # Cap outliers\n",
    "    for col in numeric_columns:\n",
    "        Q1 = X[col].quantile(0.25)\n",
    "        Q3 = X[col].quantile(0.75)\n",
    "        IQR = Q3 - Q1\n",
    "        lower_bound = Q1 - 1.5 * IQR\n",
    "        upper_bound = Q3 + 2.5 * IQR if col in ['Social_event_attendance', 'Friends_circle_size', 'Post_frequency'] else Q3 + 1.5 * IQR\n",
    "        df_input[col] = df_input[col].clip(lower=lower_bound, upper=upper_bound)\n",
    "    \n",
    "    # Feature engineering\n",
    "    df_input['Alone_to_Social_Ratio'] = df_input['Time_spent_Alone'] / (df_input['Social_event_attendance'] + 1)\n",
    "    df_input['Social_Comfort_Index'] = (\n",
    "        df_input['Friends_circle_size'] + df_input['Post_frequency'] - df_input['Stage_fear_Yes']\n",
    "    ) / 3\n",
    "    df_input['Social_Overload'] = df_input['Drained_after_socializing_Yes'] * df_input['Social_event_attendance']\n",
    "    \n",
    "    # Binned feature\n",
    "    df_input['Time_spent_Alone_Binned'] = pd.cut(\n",
    "        df_input['Time_spent_Alone'], \n",
    "        bins=time_alone_bins, \n",
    "        labels=['Low', 'Medium', 'High'], \n",
    "        include_lowest=True\n",
    "    )\n",
    "    df_input = pd.get_dummies(df_input, columns=['Time_spent_Alone_Binned'], drop_first=True)\n",
    "    \n",
    "    # Add missing bin columns\n",
    "    for col in ['Time_spent_Alone_Binned_Medium', 'Time_spent_Alone_Binned_High']:\n",
    "        if col not in df_input.columns:\n",
    "            df_input[col] = 0\n",
    "    \n",
    "    # Polynomial features\n",
    "    poly_input = poly.transform(df_input[['Time_spent_Alone', 'Social_event_attendance', 'Friends_circle_size']])\n",
    "    df_input[poly_feature_names] = poly_input\n",
    "    \n",
    "    # Ensure all training columns are present\n",
    "    for col in X_train.columns:\n",
    "        if col not in df_input.columns:\n",
    "            df_input[col] = 0\n",
    "    \n",
    "    # Arrange columns in training order\n",
    "    df_input = df_input[X_train.columns]\n",
    "    \n",
    "    # Scale\n",
    "    input_scaled = scaler.transform(df_input)\n",
    "    \n",
    "    # Predict\n",
    "    prediction = l_model.predict(input_scaled)[0]\n",
    "    return 'Extrovert' if prediction == 0 else 'Introvert'\n"
   ]
  },
  {
   "cell_type": "markdown",
   "metadata": {
    "execution": {
     "iopub.execute_input": "2025-06-03T08:09:38.711651Z",
     "iopub.status.busy": "2025-06-03T08:09:38.710893Z",
     "iopub.status.idle": "2025-06-03T08:09:38.753508Z",
     "shell.execute_reply": "2025-06-03T08:09:38.75269Z",
     "shell.execute_reply.started": "2025-06-03T08:09:38.711618Z"
    }
   },
   "source": [
    "<p style=\"background-color:#b71c1c; color:white; padding:12px; text-align:center; font-weight:bold; font-size:20px; border-radius:10px;\">\n",
    "GIVE INPUTS\n",
    "</p>"
   ]
  },
  {
   "cell_type": "code",
   "execution_count": 15,
   "metadata": {
    "execution": {
     "iopub.execute_input": "2025-06-04T09:11:59.668005Z",
     "iopub.status.busy": "2025-06-04T09:11:59.667610Z",
     "iopub.status.idle": "2025-06-04T09:11:59.673777Z",
     "shell.execute_reply": "2025-06-04T09:11:59.672620Z",
     "shell.execute_reply.started": "2025-06-04T09:11:59.667977Z"
    },
    "trusted": true
   },
   "outputs": [],
   "source": [
    "# Example usage\n",
    "user_input = {\n",
    "    'Time_spent_Alone': 11,\n",
    "    'Stage_fear': 'Yes',\n",
    "    'Social_event_attendance': 2,\n",
    "    'Going_outside': 3,\n",
    "    'Drained_after_socializing': 'Yes',\n",
    "    'Friends_circle_size':4,\n",
    "    'Post_frequency': 2\n",
    "}"
   ]
  },
  {
   "cell_type": "markdown",
   "metadata": {},
   "source": [
    "<p style=\"background-color:#b71c1c; color:white; padding:12px; text-align:center; font-weight:bold; font-size:20px; border-radius:10px;\">\n",
    "FIND OUTPUT\n",
    "</p>"
   ]
  },
  {
   "cell_type": "code",
   "execution_count": 16,
   "metadata": {
    "execution": {
     "iopub.execute_input": "2025-06-04T09:12:08.638474Z",
     "iopub.status.busy": "2025-06-04T09:12:08.637531Z",
     "iopub.status.idle": "2025-06-04T09:12:08.681620Z",
     "shell.execute_reply": "2025-06-04T09:12:08.680640Z",
     "shell.execute_reply.started": "2025-06-04T09:12:08.638434Z"
    },
    "trusted": true
   },
   "outputs": [
    {
     "name": "stdout",
     "output_type": "stream",
     "text": [
      "Predicted Personality: Introvert\n"
     ]
    }
   ],
   "source": [
    "result = predict_personality(user_input)\n",
    "print(\"Predicted Personality:\", result)"
   ]
  }
 ],
 "metadata": {
  "kaggle": {
   "accelerator": "none",
   "dataSources": [
    {
     "datasetId": 7474089,
     "sourceId": 11891195,
     "sourceType": "datasetVersion"
    }
   ],
   "dockerImageVersionId": 31040,
   "isGpuEnabled": false,
   "isInternetEnabled": true,
   "language": "python",
   "sourceType": "notebook"
  },
  "kernelspec": {
   "display_name": "AIClass",
   "language": "python",
   "name": "python3"
  },
  "language_info": {
   "codemirror_mode": {
    "name": "ipython",
    "version": 3
   },
   "file_extension": ".py",
   "mimetype": "text/x-python",
   "name": "python",
   "nbconvert_exporter": "python",
   "pygments_lexer": "ipython3",
   "version": "3.13.2"
  }
 },
 "nbformat": 4,
 "nbformat_minor": 4
}
